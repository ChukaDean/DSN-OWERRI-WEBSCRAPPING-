{
 "cells": [
  {
   "cell_type": "markdown",
   "metadata": {},
   "source": [
    "## What is Exploratory Data Analysis?"
   ]
  },
  {
   "cell_type": "markdown",
   "metadata": {},
   "source": [
    "Exploratory Data Analysis or (EDA) is understanding the data sets by summarizing their main characteristics often plotting them visually. This step is very important especially when we arrive at modeling the data in order to apply Machine learning. Plotting in EDA consists of Histograms, Box plot, Scatter plot and many more. It often takes much time to explore the data. Through the process of EDA, we can ask to define the problem statement or definition on our data set which is very important."
   ]
  },
  {
   "cell_type": "markdown",
   "metadata": {},
   "source": [
    "## How to perform Exploratory Data Analysis?"
   ]
  },
  {
   "cell_type": "markdown",
   "metadata": {},
   "source": [
    "This is one such question that everyone is keen on knowing the answer. Well, the answer is it depends on the data set that you are working. There is no one method or common methods in order to perform EDA, whereas in this tutorial you can understand some common methods and plots that would be used in the EDA process."
   ]
  },
  {
   "cell_type": "markdown",
   "metadata": {},
   "source": [
    "## What data are we exploring today?"
   ]
  },
  {
   "cell_type": "markdown",
   "metadata": {},
   "source": [
    "The dataset I will be using is a football match dataset between Arsenal and Man City. The data-set was scrapped from . To give a piece of brief information about the data set this data contains 199 rows and 9 columns which contains features of the Matches such as Date, League, Home Team, Score, Away Team, Home Score, Away Score  and many more. So in this tutorial, we will explore the data and get some insight from the data."
   ]
  },
  {
   "cell_type": "markdown",
   "metadata": {},
   "source": [
    "## Let's get started !!!"
   ]
  },
  {
   "cell_type": "markdown",
   "metadata": {},
   "source": [
    "### Importing python libraries"
   ]
  },
  {
   "cell_type": "code",
   "execution_count": 1,
   "metadata": {},
   "outputs": [],
   "source": [
    "import numpy as np\n",
    "import pandas as pd\n",
    "import seaborn as sns\n",
    "import matplotlib.pyplot as plt\n",
    "%matplotlib inline"
   ]
  },
  {
   "cell_type": "markdown",
   "metadata": {},
   "source": [
    "### Importing the data"
   ]
  },
  {
   "cell_type": "code",
   "execution_count": 2,
   "metadata": {},
   "outputs": [
    {
     "name": "stdout",
     "output_type": "stream",
     "text": [
      "Shape of dataframe is: (199, 9)\n"
     ]
    }
   ],
   "source": [
    "# Read Excel file\n",
    "dataset = pd.read_excel('Soccer_Data_Excel.xlsx')\n",
    "print(\"Shape of dataframe is: {}\".format(dataset.shape))"
   ]
  },
  {
   "cell_type": "code",
   "execution_count": 3,
   "metadata": {},
   "outputs": [],
   "source": [
    "# Make a copy of the original sourcefile\n",
    "df_Matches = dataset.copy()"
   ]
  },
  {
   "cell_type": "markdown",
   "metadata": {},
   "source": [
    "### Data Description and Exploratory Visualisations"
   ]
  },
  {
   "cell_type": "code",
   "execution_count": 4,
   "metadata": {},
   "outputs": [
    {
     "data": {
      "text/plain": [
       "Index(['Date_Time', 'League', 'Home_Team', 'Score', 'Away_Team', 'Home_Score',\n",
       "       'Away_Score', 'Home_Dummy_Score', 'Away_Dummy_Score'],\n",
       "      dtype='object')"
      ]
     },
     "execution_count": 4,
     "metadata": {},
     "output_type": "execute_result"
    }
   ],
   "source": [
    "# Dataset columns \n",
    "df_Matches.columns"
   ]
  },
  {
   "cell_type": "code",
   "execution_count": 5,
   "metadata": {
    "scrolled": true
   },
   "outputs": [
    {
     "data": {
      "text/html": [
       "<div>\n",
       "<style scoped>\n",
       "    .dataframe tbody tr th:only-of-type {\n",
       "        vertical-align: middle;\n",
       "    }\n",
       "\n",
       "    .dataframe tbody tr th {\n",
       "        vertical-align: top;\n",
       "    }\n",
       "\n",
       "    .dataframe thead th {\n",
       "        text-align: right;\n",
       "    }\n",
       "</style>\n",
       "<table border=\"1\" class=\"dataframe\">\n",
       "  <thead>\n",
       "    <tr style=\"text-align: right;\">\n",
       "      <th></th>\n",
       "      <th>Date_Time</th>\n",
       "      <th>League</th>\n",
       "      <th>Home_Team</th>\n",
       "      <th>Score</th>\n",
       "      <th>Away_Team</th>\n",
       "      <th>Home_Score</th>\n",
       "      <th>Away_Score</th>\n",
       "      <th>Home_Dummy_Score</th>\n",
       "      <th>Away_Dummy_Score</th>\n",
       "    </tr>\n",
       "  </thead>\n",
       "  <tbody>\n",
       "    <tr>\n",
       "      <th>0</th>\n",
       "      <td>We 17Jun 2020</td>\n",
       "      <td>Premier League</td>\n",
       "      <td>Man City</td>\n",
       "      <td>3-0</td>\n",
       "      <td>Arsenal</td>\n",
       "      <td>3</td>\n",
       "      <td>0</td>\n",
       "      <td>1</td>\n",
       "      <td>0</td>\n",
       "    </tr>\n",
       "    <tr>\n",
       "      <th>1</th>\n",
       "      <td>Su 15Dec 2019</td>\n",
       "      <td>Premier League</td>\n",
       "      <td>Arsenal</td>\n",
       "      <td>0-3</td>\n",
       "      <td>Man City</td>\n",
       "      <td>0</td>\n",
       "      <td>3</td>\n",
       "      <td>0</td>\n",
       "      <td>1</td>\n",
       "    </tr>\n",
       "    <tr>\n",
       "      <th>2</th>\n",
       "      <td>Su 03Feb 2019</td>\n",
       "      <td>Premier League</td>\n",
       "      <td>Man City</td>\n",
       "      <td>3-1</td>\n",
       "      <td>Arsenal</td>\n",
       "      <td>3</td>\n",
       "      <td>1</td>\n",
       "      <td>1</td>\n",
       "      <td>0</td>\n",
       "    </tr>\n",
       "    <tr>\n",
       "      <th>3</th>\n",
       "      <td>Su 12Aug 2018</td>\n",
       "      <td>Premier League</td>\n",
       "      <td>Arsenal</td>\n",
       "      <td>0-2</td>\n",
       "      <td>Man City</td>\n",
       "      <td>0</td>\n",
       "      <td>2</td>\n",
       "      <td>0</td>\n",
       "      <td>1</td>\n",
       "    </tr>\n",
       "    <tr>\n",
       "      <th>4</th>\n",
       "      <td>Th 01Mar 2018</td>\n",
       "      <td>Premier League</td>\n",
       "      <td>Arsenal</td>\n",
       "      <td>0-3</td>\n",
       "      <td>Man City</td>\n",
       "      <td>0</td>\n",
       "      <td>3</td>\n",
       "      <td>0</td>\n",
       "      <td>1</td>\n",
       "    </tr>\n",
       "  </tbody>\n",
       "</table>\n",
       "</div>"
      ],
      "text/plain": [
       "       Date_Time          League Home_Team Score Away_Team  Home_Score  \\\n",
       "0  We 17Jun 2020  Premier League  Man City   3-0   Arsenal           3   \n",
       "1  Su 15Dec 2019  Premier League   Arsenal   0-3  Man City           0   \n",
       "2  Su 03Feb 2019  Premier League  Man City   3-1   Arsenal           3   \n",
       "3  Su 12Aug 2018  Premier League   Arsenal   0-2  Man City           0   \n",
       "4  Th 01Mar 2018  Premier League   Arsenal   0-3  Man City           0   \n",
       "\n",
       "   Away_Score  Home_Dummy_Score  Away_Dummy_Score  \n",
       "0           0                 1                 0  \n",
       "1           3                 0                 1  \n",
       "2           1                 1                 0  \n",
       "3           2                 0                 1  \n",
       "4           3                 0                 1  "
      ]
     },
     "execution_count": 5,
     "metadata": {},
     "output_type": "execute_result"
    }
   ],
   "source": [
    "# Dataset header\n",
    "df_Matches.head()"
   ]
  },
  {
   "cell_type": "code",
   "execution_count": 6,
   "metadata": {
    "scrolled": true
   },
   "outputs": [
    {
     "data": {
      "text/html": [
       "<div>\n",
       "<style scoped>\n",
       "    .dataframe tbody tr th:only-of-type {\n",
       "        vertical-align: middle;\n",
       "    }\n",
       "\n",
       "    .dataframe tbody tr th {\n",
       "        vertical-align: top;\n",
       "    }\n",
       "\n",
       "    .dataframe thead th {\n",
       "        text-align: right;\n",
       "    }\n",
       "</style>\n",
       "<table border=\"1\" class=\"dataframe\">\n",
       "  <thead>\n",
       "    <tr style=\"text-align: right;\">\n",
       "      <th></th>\n",
       "      <th>Date_Time</th>\n",
       "      <th>League</th>\n",
       "      <th>Home_Team</th>\n",
       "      <th>Score</th>\n",
       "      <th>Away_Team</th>\n",
       "      <th>Home_Score</th>\n",
       "      <th>Away_Score</th>\n",
       "      <th>Home_Dummy_Score</th>\n",
       "      <th>Away_Dummy_Score</th>\n",
       "    </tr>\n",
       "  </thead>\n",
       "  <tbody>\n",
       "    <tr>\n",
       "      <th>194</th>\n",
       "      <td>Sa 07Sep 1895</td>\n",
       "      <td>English Div 2 (old)</td>\n",
       "      <td>Arsenal</td>\n",
       "      <td>0-1</td>\n",
       "      <td>Man City</td>\n",
       "      <td>0</td>\n",
       "      <td>1</td>\n",
       "      <td>0</td>\n",
       "      <td>1</td>\n",
       "    </tr>\n",
       "    <tr>\n",
       "      <th>195</th>\n",
       "      <td>Sa 15Dec 1894</td>\n",
       "      <td>English Div 2 (old)</td>\n",
       "      <td>Man City</td>\n",
       "      <td>4-1</td>\n",
       "      <td>Arsenal</td>\n",
       "      <td>4</td>\n",
       "      <td>1</td>\n",
       "      <td>1</td>\n",
       "      <td>0</td>\n",
       "    </tr>\n",
       "    <tr>\n",
       "      <th>196</th>\n",
       "      <td>Sa 29Sep 1894</td>\n",
       "      <td>English Div 2 (old)</td>\n",
       "      <td>Arsenal</td>\n",
       "      <td>4-2</td>\n",
       "      <td>Man City</td>\n",
       "      <td>4</td>\n",
       "      <td>2</td>\n",
       "      <td>1</td>\n",
       "      <td>0</td>\n",
       "    </tr>\n",
       "    <tr>\n",
       "      <th>197</th>\n",
       "      <td>Sa 30Dec 1893</td>\n",
       "      <td>English Div 2 (old)</td>\n",
       "      <td>Man City</td>\n",
       "      <td>0-1</td>\n",
       "      <td>Arsenal</td>\n",
       "      <td>0</td>\n",
       "      <td>1</td>\n",
       "      <td>0</td>\n",
       "      <td>1</td>\n",
       "    </tr>\n",
       "    <tr>\n",
       "      <th>198</th>\n",
       "      <td>Sa 11Nov 1893</td>\n",
       "      <td>English Div 2 (old)</td>\n",
       "      <td>Arsenal</td>\n",
       "      <td>1-0</td>\n",
       "      <td>Man City</td>\n",
       "      <td>1</td>\n",
       "      <td>0</td>\n",
       "      <td>1</td>\n",
       "      <td>0</td>\n",
       "    </tr>\n",
       "  </tbody>\n",
       "</table>\n",
       "</div>"
      ],
      "text/plain": [
       "         Date_Time               League Home_Team Score Away_Team  Home_Score  \\\n",
       "194  Sa 07Sep 1895  English Div 2 (old)   Arsenal   0-1  Man City           0   \n",
       "195  Sa 15Dec 1894  English Div 2 (old)  Man City   4-1   Arsenal           4   \n",
       "196  Sa 29Sep 1894  English Div 2 (old)   Arsenal   4-2  Man City           4   \n",
       "197  Sa 30Dec 1893  English Div 2 (old)  Man City   0-1   Arsenal           0   \n",
       "198  Sa 11Nov 1893  English Div 2 (old)   Arsenal   1-0  Man City           1   \n",
       "\n",
       "     Away_Score  Home_Dummy_Score  Away_Dummy_Score  \n",
       "194           1                 0                 1  \n",
       "195           1                 1                 0  \n",
       "196           2                 1                 0  \n",
       "197           1                 0                 1  \n",
       "198           0                 1                 0  "
      ]
     },
     "execution_count": 6,
     "metadata": {},
     "output_type": "execute_result"
    }
   ],
   "source": [
    "# Dataset footer\n",
    "df_Matches.tail()"
   ]
  },
  {
   "cell_type": "markdown",
   "metadata": {},
   "source": [
    "> The dataset contains several numerical and categorical columns providing various information on the matches played between Arsenal and Man City."
   ]
  },
  {
   "cell_type": "code",
   "execution_count": 7,
   "metadata": {
    "scrolled": true
   },
   "outputs": [
    {
     "name": "stdout",
     "output_type": "stream",
     "text": [
      "<class 'pandas.core.frame.DataFrame'>\n",
      "RangeIndex: 199 entries, 0 to 198\n",
      "Data columns (total 9 columns):\n",
      "Date_Time           199 non-null object\n",
      "League              199 non-null object\n",
      "Home_Team           199 non-null object\n",
      "Score               199 non-null object\n",
      "Away_Team           199 non-null object\n",
      "Home_Score          199 non-null int64\n",
      "Away_Score          199 non-null int64\n",
      "Home_Dummy_Score    199 non-null int64\n",
      "Away_Dummy_Score    199 non-null int64\n",
      "dtypes: int64(4), object(5)\n",
      "memory usage: 14.1+ KB\n"
     ]
    }
   ],
   "source": [
    "# Columns datatypes and missign values\n",
    "df_Matches.info()"
   ]
  },
  {
   "cell_type": "markdown",
   "metadata": {},
   "source": [
    "> The data provided has no missing values."
   ]
  },
  {
   "cell_type": "code",
   "execution_count": 8,
   "metadata": {},
   "outputs": [
    {
     "name": "stdout",
     "output_type": "stream",
     "text": [
      "the number of duplicate rows:  0\n"
     ]
    }
   ],
   "source": [
    "# Check for duplicate rows\n",
    "duplicate_rows_df = df_Matches[df_Matches.duplicated()]\n",
    "print('the number of duplicate rows: ', duplicate_rows_df.shape[0])"
   ]
  },
  {
   "cell_type": "markdown",
   "metadata": {},
   "source": [
    "> The data provided has no duplicate rows."
   ]
  },
  {
   "cell_type": "markdown",
   "metadata": {},
   "source": [
    "### Numerical features overview"
   ]
  },
  {
   "cell_type": "code",
   "execution_count": 9,
   "metadata": {},
   "outputs": [
    {
     "data": {
      "text/html": [
       "<div>\n",
       "<style scoped>\n",
       "    .dataframe tbody tr th:only-of-type {\n",
       "        vertical-align: middle;\n",
       "    }\n",
       "\n",
       "    .dataframe tbody tr th {\n",
       "        vertical-align: top;\n",
       "    }\n",
       "\n",
       "    .dataframe thead th {\n",
       "        text-align: right;\n",
       "    }\n",
       "</style>\n",
       "<table border=\"1\" class=\"dataframe\">\n",
       "  <thead>\n",
       "    <tr style=\"text-align: right;\">\n",
       "      <th></th>\n",
       "      <th>Home_Score</th>\n",
       "      <th>Away_Score</th>\n",
       "      <th>Home_Dummy_Score</th>\n",
       "      <th>Away_Dummy_Score</th>\n",
       "    </tr>\n",
       "  </thead>\n",
       "  <tbody>\n",
       "    <tr>\n",
       "      <th>count</th>\n",
       "      <td>199.000000</td>\n",
       "      <td>199.00000</td>\n",
       "      <td>199.000000</td>\n",
       "      <td>199.000000</td>\n",
       "    </tr>\n",
       "    <tr>\n",
       "      <th>mean</th>\n",
       "      <td>1.618090</td>\n",
       "      <td>1.18593</td>\n",
       "      <td>0.708543</td>\n",
       "      <td>0.517588</td>\n",
       "    </tr>\n",
       "    <tr>\n",
       "      <th>std</th>\n",
       "      <td>1.342722</td>\n",
       "      <td>1.18091</td>\n",
       "      <td>0.455580</td>\n",
       "      <td>0.500951</td>\n",
       "    </tr>\n",
       "    <tr>\n",
       "      <th>min</th>\n",
       "      <td>0.000000</td>\n",
       "      <td>0.00000</td>\n",
       "      <td>0.000000</td>\n",
       "      <td>0.000000</td>\n",
       "    </tr>\n",
       "    <tr>\n",
       "      <th>25%</th>\n",
       "      <td>1.000000</td>\n",
       "      <td>0.00000</td>\n",
       "      <td>0.000000</td>\n",
       "      <td>0.000000</td>\n",
       "    </tr>\n",
       "    <tr>\n",
       "      <th>50%</th>\n",
       "      <td>1.000000</td>\n",
       "      <td>1.00000</td>\n",
       "      <td>1.000000</td>\n",
       "      <td>1.000000</td>\n",
       "    </tr>\n",
       "    <tr>\n",
       "      <th>75%</th>\n",
       "      <td>2.000000</td>\n",
       "      <td>2.00000</td>\n",
       "      <td>1.000000</td>\n",
       "      <td>1.000000</td>\n",
       "    </tr>\n",
       "    <tr>\n",
       "      <th>max</th>\n",
       "      <td>7.000000</td>\n",
       "      <td>5.00000</td>\n",
       "      <td>1.000000</td>\n",
       "      <td>1.000000</td>\n",
       "    </tr>\n",
       "  </tbody>\n",
       "</table>\n",
       "</div>"
      ],
      "text/plain": [
       "       Home_Score  Away_Score  Home_Dummy_Score  Away_Dummy_Score\n",
       "count  199.000000   199.00000        199.000000        199.000000\n",
       "mean     1.618090     1.18593          0.708543          0.517588\n",
       "std      1.342722     1.18091          0.455580          0.500951\n",
       "min      0.000000     0.00000          0.000000          0.000000\n",
       "25%      1.000000     0.00000          0.000000          0.000000\n",
       "50%      1.000000     1.00000          1.000000          1.000000\n",
       "75%      2.000000     2.00000          1.000000          1.000000\n",
       "max      7.000000     5.00000          1.000000          1.000000"
      ]
     },
     "execution_count": 9,
     "metadata": {},
     "output_type": "execute_result"
    }
   ],
   "source": [
    "df_Matches.describe()"
   ]
  },
  {
   "cell_type": "code",
   "execution_count": 10,
   "metadata": {},
   "outputs": [
    {
     "data": {
      "image/png": "[encoded data removed]",
      "text/plain": [
       "<matplotlib.figure.Figure at 0x7f661c42fe80>"
      ]
     },
     "metadata": {},
     "output_type": "display_data"
    }
   ],
   "source": [
    "df_Matches.hist(figsize=(10,10))\n",
    "plt.show()"
   ]
  },
  {
   "cell_type": "markdown",
   "metadata": {},
   "source": [
    "> A few observations can be made based on the information and histograms for numerical features:\n",
    " - From Home Dummy score, we can observed that there is a high rate of win if the game is played at Home.\n",
    " - The One goal is common in most Matches played at Home.\n",
    " - Zero and One are the common goals scored in Matches played Away"
   ]
  },
  {
   "cell_type": "code",
   "execution_count": 11,
   "metadata": {},
   "outputs": [
    {
     "data": {
      "text/plain": [
       "English Div 1 (old)    124\n",
       "Premier League          26\n",
       "Premiership             20\n",
       "English Div 2 (old)     14\n",
       "English League Cup       5\n",
       "Carling Cup              3\n",
       "English FA Cup           3\n",
       "Charity Shield           1\n",
       "FA Cup                   1\n",
       "EFL Cup                  1\n",
       "Community Shield         1\n",
       "Name: League, dtype: int64"
      ]
     },
     "execution_count": 11,
     "metadata": {},
     "output_type": "execute_result"
    }
   ],
   "source": [
    "# Types of Leagues played \n",
    "df_Matches['League'].value_counts()"
   ]
  },
  {
   "cell_type": "markdown",
   "metadata": {},
   "source": [
    "> We have English Div 1 (old), Premier League and Premiership which all means the same thing."
   ]
  },
  {
   "cell_type": "code",
   "execution_count": 12,
   "metadata": {},
   "outputs": [],
   "source": [
    "#Replace English Div 1 and Premiership \n",
    "df_Matches['League'].replace({\"English Div 1 (old)\": \"Premier League\", \"Premiership\": \"Premier League\"},\n",
    "                             inplace=True)"
   ]
  },
  {
   "cell_type": "code",
   "execution_count": 13,
   "metadata": {},
   "outputs": [
    {
     "data": {
      "text/plain": [
       "Premier League         170\n",
       "English Div 2 (old)     14\n",
       "English League Cup       5\n",
       "Carling Cup              3\n",
       "English FA Cup           3\n",
       "Charity Shield           1\n",
       "FA Cup                   1\n",
       "EFL Cup                  1\n",
       "Community Shield         1\n",
       "Name: League, dtype: int64"
      ]
     },
     "execution_count": 13,
     "metadata": {},
     "output_type": "execute_result"
    }
   ],
   "source": [
    "df_Matches['League'].value_counts()"
   ]
  },
  {
   "cell_type": "code",
   "execution_count": 14,
   "metadata": {},
   "outputs": [
    {
     "data": {
      "text/plain": [
       "<seaborn.axisgrid.FacetGrid at 0x7f6619d81128>"
      ]
     },
     "execution_count": 14,
     "metadata": {},
     "output_type": "execute_result"
    },
    {
     "data": {
      "image/png": "[encoded data removed]",
      "text/plain": [
       "<matplotlib.figure.Figure at 0x7f661a0a9710>"
      ]
     },
     "metadata": {},
     "output_type": "display_data"
    }
   ],
   "source": [
    "#Histogram plot of the number of leagues played \n",
    "sns.set_style('darkgrid')\n",
    "sns.set_context('paper', font_scale=2)\n",
    "g = sns.catplot(x='League', data=df_Matches, aspect=2.0, kind=\"count\")\n",
    "g.set_xticklabels(rotation=90)"
   ]
  },
  {
   "cell_type": "markdown",
   "metadata": {},
   "source": [
    "> We observed that Premier League has the highest number of matches played with 170 matches."
   ]
  },
  {
   "cell_type": "code",
   "execution_count": 15,
   "metadata": {},
   "outputs": [],
   "source": [
    "#Replace 1 to Win and 0 to Loss in Home_Dummy_Score and Away_Dummy_Score\n",
    "df_Matches['Home_Dummy_Score'].replace({1: \"Win\", 0: \"Loss\"}, inplace=True)\n",
    "df_Matches['Away_Dummy_Score'].replace({1: \"Win\", 0: \"Loss\"}, inplace=True)"
   ]
  },
  {
   "cell_type": "code",
   "execution_count": 16,
   "metadata": {},
   "outputs": [
    {
     "data": {
      "text/html": [
       "<div>\n",
       "<style scoped>\n",
       "    .dataframe tbody tr th:only-of-type {\n",
       "        vertical-align: middle;\n",
       "    }\n",
       "\n",
       "    .dataframe tbody tr th {\n",
       "        vertical-align: top;\n",
       "    }\n",
       "\n",
       "    .dataframe thead th {\n",
       "        text-align: right;\n",
       "    }\n",
       "</style>\n",
       "<table border=\"1\" class=\"dataframe\">\n",
       "  <thead>\n",
       "    <tr style=\"text-align: right;\">\n",
       "      <th></th>\n",
       "      <th>Date_Time</th>\n",
       "      <th>League</th>\n",
       "      <th>Home_Team</th>\n",
       "      <th>Score</th>\n",
       "      <th>Away_Team</th>\n",
       "      <th>Home_Score</th>\n",
       "      <th>Away_Score</th>\n",
       "      <th>Home_Dummy_Score</th>\n",
       "      <th>Away_Dummy_Score</th>\n",
       "    </tr>\n",
       "  </thead>\n",
       "  <tbody>\n",
       "    <tr>\n",
       "      <th>0</th>\n",
       "      <td>We 17Jun 2020</td>\n",
       "      <td>Premier League</td>\n",
       "      <td>Man City</td>\n",
       "      <td>3-0</td>\n",
       "      <td>Arsenal</td>\n",
       "      <td>3</td>\n",
       "      <td>0</td>\n",
       "      <td>Win</td>\n",
       "      <td>Loss</td>\n",
       "    </tr>\n",
       "    <tr>\n",
       "      <th>1</th>\n",
       "      <td>Su 15Dec 2019</td>\n",
       "      <td>Premier League</td>\n",
       "      <td>Arsenal</td>\n",
       "      <td>0-3</td>\n",
       "      <td>Man City</td>\n",
       "      <td>0</td>\n",
       "      <td>3</td>\n",
       "      <td>Loss</td>\n",
       "      <td>Win</td>\n",
       "    </tr>\n",
       "    <tr>\n",
       "      <th>2</th>\n",
       "      <td>Su 03Feb 2019</td>\n",
       "      <td>Premier League</td>\n",
       "      <td>Man City</td>\n",
       "      <td>3-1</td>\n",
       "      <td>Arsenal</td>\n",
       "      <td>3</td>\n",
       "      <td>1</td>\n",
       "      <td>Win</td>\n",
       "      <td>Loss</td>\n",
       "    </tr>\n",
       "    <tr>\n",
       "      <th>3</th>\n",
       "      <td>Su 12Aug 2018</td>\n",
       "      <td>Premier League</td>\n",
       "      <td>Arsenal</td>\n",
       "      <td>0-2</td>\n",
       "      <td>Man City</td>\n",
       "      <td>0</td>\n",
       "      <td>2</td>\n",
       "      <td>Loss</td>\n",
       "      <td>Win</td>\n",
       "    </tr>\n",
       "    <tr>\n",
       "      <th>4</th>\n",
       "      <td>Th 01Mar 2018</td>\n",
       "      <td>Premier League</td>\n",
       "      <td>Arsenal</td>\n",
       "      <td>0-3</td>\n",
       "      <td>Man City</td>\n",
       "      <td>0</td>\n",
       "      <td>3</td>\n",
       "      <td>Loss</td>\n",
       "      <td>Win</td>\n",
       "    </tr>\n",
       "  </tbody>\n",
       "</table>\n",
       "</div>"
      ],
      "text/plain": [
       "       Date_Time          League Home_Team Score Away_Team  Home_Score  \\\n",
       "0  We 17Jun 2020  Premier League  Man City   3-0   Arsenal           3   \n",
       "1  Su 15Dec 2019  Premier League   Arsenal   0-3  Man City           0   \n",
       "2  Su 03Feb 2019  Premier League  Man City   3-1   Arsenal           3   \n",
       "3  Su 12Aug 2018  Premier League   Arsenal   0-2  Man City           0   \n",
       "4  Th 01Mar 2018  Premier League   Arsenal   0-3  Man City           0   \n",
       "\n",
       "   Away_Score Home_Dummy_Score Away_Dummy_Score  \n",
       "0           0              Win             Loss  \n",
       "1           3             Loss              Win  \n",
       "2           1              Win             Loss  \n",
       "3           2             Loss              Win  \n",
       "4           3             Loss              Win  "
      ]
     },
     "execution_count": 16,
     "metadata": {},
     "output_type": "execute_result"
    }
   ],
   "source": [
    "#dataset header\n",
    "df_Matches.head()"
   ]
  },
  {
   "cell_type": "code",
   "execution_count": 17,
   "metadata": {},
   "outputs": [
    {
     "name": "stdout",
     "output_type": "stream",
     "text": [
      "Man City won the total of 37 matches at home and won the total of 20 matches away\n"
     ]
    }
   ],
   "source": [
    "#Calculate the number of Home and Away wins of Man City\n",
    "mancity_home_win = df_Matches.loc[(df_Matches['Home_Team'] == 'Man City') & \n",
    "                                     (df_Matches['Home_Dummy_Score'] == \"Win\")& \n",
    "                                     (df_Matches['Away_Dummy_Score'] == \"Loss\")].shape[0]\n",
    "\n",
    "mancity_away_win = df_Matches.loc[(df_Matches['Away_Team'] == 'Man City') & \n",
    "                                     (df_Matches['Away_Dummy_Score'] == \"Win\")\n",
    "                                 & (df_Matches['Home_Dummy_Score'] == \"Loss\")].shape[0]\n",
    "\n",
    "print(\"Man City won the total of {} matches at home and won the total of {} matches away\" \n",
    "      .format(mancity_home_win, mancity_away_win))"
   ]
  },
  {
   "cell_type": "code",
   "execution_count": 18,
   "metadata": {},
   "outputs": [
    {
     "name": "stdout",
     "output_type": "stream",
     "text": [
      "Arsenal won the total of 59 matches at Home and won the total of 38 matches away\n"
     ]
    }
   ],
   "source": [
    "#Calculate the number of Home and Away wins of Arsenal\n",
    "arsenal_home_win= df_Matches.loc[(df_Matches['Home_Team'] == 'Arsenal') & \n",
    "                                 (df_Matches['Home_Dummy_Score'] == \"Win\")& \n",
    "                                (df_Matches['Away_Dummy_Score'] == \"Loss\")].shape[0]\n",
    "\n",
    "arsenal_away_win= df_Matches.loc[(df_Matches['Away_Team'] == 'Arsenal') & \n",
    "                                 (df_Matches['Away_Dummy_Score'] == \"Win\")& \n",
    "                                 (df_Matches['Home_Dummy_Score'] == \"Loss\")].shape[0]\n",
    "\n",
    "print(\"Arsenal won the total of {} matches at Home and won the total of {} matches away\" \n",
    "      .format(arsenal_home_win, arsenal_away_win))"
   ]
  },
  {
   "cell_type": "code",
   "execution_count": 19,
   "metadata": {},
   "outputs": [
    {
     "name": "stdout",
     "output_type": "stream",
     "text": [
      "The number of draw is. 45\n"
     ]
    }
   ],
   "source": [
    "draw = df_Matches.loc[(df_Matches['Away_Dummy_Score'] == \"Win\")& \n",
    "                                                 (df_Matches['Home_Dummy_Score'] == \"Win\")].shape[0]\n",
    "print(\"The number of draw is. {}\".format(draw))"
   ]
  },
  {
   "cell_type": "code",
   "execution_count": 20,
   "metadata": {
    "scrolled": true
   },
   "outputs": [
    {
     "data": {
      "image/png": "[encoded data removed]",
      "text/plain": [
       "<matplotlib.figure.Figure at 0x7f6619d44a58>"
      ]
     },
     "metadata": {},
     "output_type": "display_data"
    }
   ],
   "source": [
    "sns.set_style('darkgrid')\n",
    "sns.set_context('paper', font_scale=2)\n",
    "g = sns.catplot(x='Home_Team', data=df_Matches, aspect=3.0, kind=\"count\", hue='Home_Dummy_Score')"
   ]
  },
  {
   "cell_type": "code",
   "execution_count": 21,
   "metadata": {
    "scrolled": true
   },
   "outputs": [
    {
     "data": {
      "text/plain": [
       "<seaborn.axisgrid.FacetGrid at 0x7f6619bb24a8>"
      ]
     },
     "execution_count": 21,
     "metadata": {},
     "output_type": "execute_result"
    },
    {
     "data": {
      "image/png": "[encoded data removed]",
      "text/plain": [
       "<matplotlib.figure.Figure at 0x7f6619f87cf8>"
      ]
     },
     "metadata": {},
     "output_type": "display_data"
    }
   ],
   "source": [
    "sns.catplot(x='Away_Team', data=df_Matches, aspect=3.0, kind=\"count\", hue='Away_Dummy_Score')"
   ]
  },
  {
   "cell_type": "code",
   "execution_count": 22,
   "metadata": {},
   "outputs": [
    {
     "name": "stdout",
     "output_type": "stream",
     "text": [
      "The total Arsenal wins is: 97 while the total Man city win is: 57\n"
     ]
    }
   ],
   "source": [
    "# Total Number of Arsenal Wins\n",
    "Total_arsenal_wins = arsenal_away_win + arsenal_home_win\n",
    "\n",
    "# Total Man City wins\n",
    "Total_mancity_wins = mancity_away_win + mancity_home_win\n",
    "\n",
    "print(\"The total Arsenal wins is: {} while the total Man city win is: {}\" \n",
    "      .format(Total_arsenal_wins, Total_mancity_wins))"
   ]
  },
  {
   "cell_type": "markdown",
   "metadata": {},
   "source": [
    "> A few observation\n",
    " - We can see that Arsenal performed better than Man city in all matches played at home. Arsenal won a total of 59 games played at home while Mancity won the total of 37 games played at Home\n",
    " - We can observed that Arsenal performed well at Away game. Arsenal had  a total of 38 away games while Man city has a total of 20 away wins.\n",
    " - From the total from both Away and Home game, Arsenal perfomed better winning 97 games while Man City won 57 games.\n",
    " - They draw 45 of the matches played."
   ]
  },
  {
   "cell_type": "markdown",
   "metadata": {},
   "source": [
    "### Top 10 recent matches "
   ]
  },
  {
   "cell_type": "code",
   "execution_count": 23,
   "metadata": {},
   "outputs": [
    {
     "data": {
      "text/html": [
       "<div>\n",
       "<style scoped>\n",
       "    .dataframe tbody tr th:only-of-type {\n",
       "        vertical-align: middle;\n",
       "    }\n",
       "\n",
       "    .dataframe tbody tr th {\n",
       "        vertical-align: top;\n",
       "    }\n",
       "\n",
       "    .dataframe thead th {\n",
       "        text-align: right;\n",
       "    }\n",
       "</style>\n",
       "<table border=\"1\" class=\"dataframe\">\n",
       "  <thead>\n",
       "    <tr style=\"text-align: right;\">\n",
       "      <th></th>\n",
       "      <th>Date_Time</th>\n",
       "      <th>League</th>\n",
       "      <th>Home_Team</th>\n",
       "      <th>Score</th>\n",
       "      <th>Away_Team</th>\n",
       "      <th>Home_Score</th>\n",
       "      <th>Away_Score</th>\n",
       "      <th>Home_Dummy_Score</th>\n",
       "      <th>Away_Dummy_Score</th>\n",
       "    </tr>\n",
       "  </thead>\n",
       "  <tbody>\n",
       "    <tr>\n",
       "      <th>0</th>\n",
       "      <td>We 17Jun 2020</td>\n",
       "      <td>Premier League</td>\n",
       "      <td>Man City</td>\n",
       "      <td>3-0</td>\n",
       "      <td>Arsenal</td>\n",
       "      <td>3</td>\n",
       "      <td>0</td>\n",
       "      <td>Win</td>\n",
       "      <td>Loss</td>\n",
       "    </tr>\n",
       "    <tr>\n",
       "      <th>1</th>\n",
       "      <td>Su 15Dec 2019</td>\n",
       "      <td>Premier League</td>\n",
       "      <td>Arsenal</td>\n",
       "      <td>0-3</td>\n",
       "      <td>Man City</td>\n",
       "      <td>0</td>\n",
       "      <td>3</td>\n",
       "      <td>Loss</td>\n",
       "      <td>Win</td>\n",
       "    </tr>\n",
       "    <tr>\n",
       "      <th>2</th>\n",
       "      <td>Su 03Feb 2019</td>\n",
       "      <td>Premier League</td>\n",
       "      <td>Man City</td>\n",
       "      <td>3-1</td>\n",
       "      <td>Arsenal</td>\n",
       "      <td>3</td>\n",
       "      <td>1</td>\n",
       "      <td>Win</td>\n",
       "      <td>Loss</td>\n",
       "    </tr>\n",
       "    <tr>\n",
       "      <th>3</th>\n",
       "      <td>Su 12Aug 2018</td>\n",
       "      <td>Premier League</td>\n",
       "      <td>Arsenal</td>\n",
       "      <td>0-2</td>\n",
       "      <td>Man City</td>\n",
       "      <td>0</td>\n",
       "      <td>2</td>\n",
       "      <td>Loss</td>\n",
       "      <td>Win</td>\n",
       "    </tr>\n",
       "    <tr>\n",
       "      <th>4</th>\n",
       "      <td>Th 01Mar 2018</td>\n",
       "      <td>Premier League</td>\n",
       "      <td>Arsenal</td>\n",
       "      <td>0-3</td>\n",
       "      <td>Man City</td>\n",
       "      <td>0</td>\n",
       "      <td>3</td>\n",
       "      <td>Loss</td>\n",
       "      <td>Win</td>\n",
       "    </tr>\n",
       "    <tr>\n",
       "      <th>5</th>\n",
       "      <td>Su 25Feb 2018</td>\n",
       "      <td>EFL Cup</td>\n",
       "      <td>Arsenal</td>\n",
       "      <td>0-3</td>\n",
       "      <td>Man City</td>\n",
       "      <td>0</td>\n",
       "      <td>3</td>\n",
       "      <td>Loss</td>\n",
       "      <td>Win</td>\n",
       "    </tr>\n",
       "    <tr>\n",
       "      <th>6</th>\n",
       "      <td>Su 05Nov 2017</td>\n",
       "      <td>Premier League</td>\n",
       "      <td>Man City</td>\n",
       "      <td>3-1</td>\n",
       "      <td>Arsenal</td>\n",
       "      <td>3</td>\n",
       "      <td>1</td>\n",
       "      <td>Win</td>\n",
       "      <td>Loss</td>\n",
       "    </tr>\n",
       "    <tr>\n",
       "      <th>7</th>\n",
       "      <td>Su 23Apr 2017</td>\n",
       "      <td>FA Cup</td>\n",
       "      <td>Arsenal</td>\n",
       "      <td>2-1</td>\n",
       "      <td>Man City</td>\n",
       "      <td>2</td>\n",
       "      <td>1</td>\n",
       "      <td>Win</td>\n",
       "      <td>Loss</td>\n",
       "    </tr>\n",
       "    <tr>\n",
       "      <th>8</th>\n",
       "      <td>Su 02Apr 2017</td>\n",
       "      <td>Premier League</td>\n",
       "      <td>Arsenal</td>\n",
       "      <td>2-2</td>\n",
       "      <td>Man City</td>\n",
       "      <td>2</td>\n",
       "      <td>2</td>\n",
       "      <td>Win</td>\n",
       "      <td>Win</td>\n",
       "    </tr>\n",
       "    <tr>\n",
       "      <th>9</th>\n",
       "      <td>Su 18Dec 2016</td>\n",
       "      <td>Premier League</td>\n",
       "      <td>Man City</td>\n",
       "      <td>2-1</td>\n",
       "      <td>Arsenal</td>\n",
       "      <td>2</td>\n",
       "      <td>1</td>\n",
       "      <td>Win</td>\n",
       "      <td>Loss</td>\n",
       "    </tr>\n",
       "  </tbody>\n",
       "</table>\n",
       "</div>"
      ],
      "text/plain": [
       "       Date_Time          League Home_Team Score Away_Team  Home_Score  \\\n",
       "0  We 17Jun 2020  Premier League  Man City   3-0   Arsenal           3   \n",
       "1  Su 15Dec 2019  Premier League   Arsenal   0-3  Man City           0   \n",
       "2  Su 03Feb 2019  Premier League  Man City   3-1   Arsenal           3   \n",
       "3  Su 12Aug 2018  Premier League   Arsenal   0-2  Man City           0   \n",
       "4  Th 01Mar 2018  Premier League   Arsenal   0-3  Man City           0   \n",
       "5  Su 25Feb 2018         EFL Cup   Arsenal   0-3  Man City           0   \n",
       "6  Su 05Nov 2017  Premier League  Man City   3-1   Arsenal           3   \n",
       "7  Su 23Apr 2017          FA Cup   Arsenal   2-1  Man City           2   \n",
       "8  Su 02Apr 2017  Premier League   Arsenal   2-2  Man City           2   \n",
       "9  Su 18Dec 2016  Premier League  Man City   2-1   Arsenal           2   \n",
       "\n",
       "   Away_Score Home_Dummy_Score Away_Dummy_Score  \n",
       "0           0              Win             Loss  \n",
       "1           3             Loss              Win  \n",
       "2           1              Win             Loss  \n",
       "3           2             Loss              Win  \n",
       "4           3             Loss              Win  \n",
       "5           3             Loss              Win  \n",
       "6           1              Win             Loss  \n",
       "7           1              Win             Loss  \n",
       "8           2              Win              Win  \n",
       "9           1              Win             Loss  "
      ]
     },
     "execution_count": 23,
     "metadata": {},
     "output_type": "execute_result"
    }
   ],
   "source": [
    "#10 recent matches \n",
    "df_Matches.head(10)"
   ]
  },
  {
   "cell_type": "code",
   "execution_count": 24,
   "metadata": {},
   "outputs": [
    {
     "name": "stdout",
     "output_type": "stream",
     "text": [
      "Man City won the total of 4 matches at home and won the total of 4 matches away\n"
     ]
    }
   ],
   "source": [
    "#Calculate the number of Home and Away wins of Man City\n",
    "latest_mancity_home_win = df_Matches.head(10).loc[(df_Matches['Home_Team'] == 'Man City') & \n",
    "                                                 (df_Matches['Home_Dummy_Score'] == \"Win\") & \n",
    "                                                 (df_Matches['Away_Dummy_Score'] == \"Loss\") ].shape[0]\n",
    "\n",
    "latest_mancity_away_win = df_Matches.head(10).loc[(df_Matches['Away_Team'] == 'Man City') & \n",
    "                                                 (df_Matches['Away_Dummy_Score'] == \"Win\") & \n",
    "                                                 (df_Matches['Home_Dummy_Score'] == \"Loss\")].shape[0]\n",
    "\n",
    "print(\"Man City won the total of {} matches at home and won the total of {} matches away\" \n",
    "      .format(latest_mancity_home_win, latest_mancity_away_win))"
   ]
  },
  {
   "cell_type": "code",
   "execution_count": 25,
   "metadata": {},
   "outputs": [
    {
     "name": "stdout",
     "output_type": "stream",
     "text": [
      "Arsenal won the total of 1 matches at Home and won the total of 0 matches away\n"
     ]
    }
   ],
   "source": [
    "#Calculate the number of Home and Away wins of Arsenal\n",
    "latest_arsenal_home_win = df_Matches.head(10).loc[(df_Matches['Home_Team'] == 'Arsenal') & \n",
    "                                                  (df_Matches['Home_Dummy_Score'] == \"Win\")& \n",
    "                                                 (df_Matches['Away_Dummy_Score'] == \"Loss\") ].shape[0]\n",
    "\n",
    "latest_arsenal_away_win = df_Matches.head(10).loc[(df_Matches['Away_Team'] == 'Arsenal') & \n",
    "                                                  (df_Matches['Away_Dummy_Score'] == \"Win\")& \n",
    "                                                 (df_Matches['Home_Dummy_Score'] == \"Loss\")].shape[0]\n",
    "\n",
    "print(\"Arsenal won the total of {} matches at Home and won the total of {} matches away\" \n",
    "      .format(latest_arsenal_home_win, latest_arsenal_away_win))"
   ]
  },
  {
   "cell_type": "code",
   "execution_count": 26,
   "metadata": {},
   "outputs": [
    {
     "name": "stdout",
     "output_type": "stream",
     "text": [
      "The number of draw is. 1\n"
     ]
    }
   ],
   "source": [
    "#the number of draw\n",
    "latest_draw = df_Matches.head(10).loc[(df_Matches['Away_Dummy_Score'] == \"Win\")& \n",
    "                                                 (df_Matches['Home_Dummy_Score'] == \"Win\")].shape[0]\n",
    "print(\"The number of draw is {}\".format(latest_draw))"
   ]
  },
  {
   "cell_type": "code",
   "execution_count": 27,
   "metadata": {},
   "outputs": [
    {
     "data": {
      "image/png": "[encoded data removed]",
      "text/plain": [
       "<matplotlib.figure.Figure at 0x7f6619d3dc50>"
      ]
     },
     "metadata": {},
     "output_type": "display_data"
    }
   ],
   "source": [
    "sns.set_style('darkgrid')\n",
    "sns.set_context('paper', font_scale=2)\n",
    "g = sns.catplot(x='Home_Team', data=df_Matches.head(10), aspect=3.0, kind=\"count\", hue='Home_Dummy_Score')"
   ]
  },
  {
   "cell_type": "code",
   "execution_count": 28,
   "metadata": {},
   "outputs": [
    {
     "data": {
      "image/png": "[encoded data removed]",
      "text/plain": [
       "<matplotlib.figure.Figure at 0x7f6619d9efd0>"
      ]
     },
     "metadata": {},
     "output_type": "display_data"
    }
   ],
   "source": [
    "sns.set_style('darkgrid')\n",
    "sns.set_context('paper', font_scale=2)\n",
    "g = sns.catplot(x='Away_Team', data=df_Matches.head(10), aspect=3.0, kind=\"count\", hue='Away_Dummy_Score')"
   ]
  },
  {
   "cell_type": "code",
   "execution_count": 29,
   "metadata": {},
   "outputs": [
    {
     "name": "stdout",
     "output_type": "stream",
     "text": [
      "The total Arsenal wins is: 1 while the total Man city win is: 8 while we have 1 draw in their last 10 matches\n"
     ]
    }
   ],
   "source": [
    "#Total wins \n",
    "Total_arsenal_latest_win = latest_arsenal_away_win + latest_arsenal_home_win\n",
    "\n",
    "Total_mancity_latest_win = latest_mancity_away_win + latest_mancity_home_win\n",
    "\n",
    "print(\"The total Arsenal wins is: {} while the total Man city win is: {} while we have {} draw in their last 10 matches\" \n",
    "      .format(Total_arsenal_latest_win, Total_mancity_latest_win, latest_draw))"
   ]
  },
  {
   "cell_type": "markdown",
   "metadata": {},
   "source": [
    "> A few observation\n",
    " - We can see that Man City performed better than Arsenal in all matches played at home. Man City won a total of 4 games played at home while Arsenal won the total of 1 games played at Home\n",
    " - We can observed that Man City performed well at Away game. Arsenal had  a total of 0 away games while Man city has a total of 4 away wins.\n",
    " - From the total from both Away and Home game, Man City perfomed better winning 8 games while Arsenal won 1 games and they draw 1 game in the last 10 matches."
   ]
  }
 ],
 "metadata": {
  "kernelspec": {
   "display_name": "Python 3",
   "language": "python",
   "name": "python3"
  },
  "language_info": {
   "codemirror_mode": {
    "name": "ipython",
    "version": 3
   },
   "file_extension": ".py",
   "mimetype": "text/x-python",
   "name": "python",
   "nbconvert_exporter": "python",
   "pygments_lexer": "ipython3",
   "version": "3.6.4"
  }
 },
 "nbformat": 4,
 "nbformat_minor": 2
}
